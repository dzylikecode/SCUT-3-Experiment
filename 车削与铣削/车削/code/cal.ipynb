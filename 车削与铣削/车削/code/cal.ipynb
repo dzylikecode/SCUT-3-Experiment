{
 "cells": [
  {
   "cell_type": "markdown",
   "metadata": {},
   "source": [
    "## 原始数据\n",
    "\n",
    "![](assets/4e88009f9872425fb7f479fbc686452.png)"
   ]
  },
  {
   "cell_type": "code",
   "execution_count": 1,
   "metadata": {},
   "outputs": [],
   "source": [
    "d1 = 19 # 原来φ19\n",
    "r2 = 8.5 # 原来半径R8"
   ]
  },
  {
   "cell_type": "code",
   "execution_count": 3,
   "metadata": {},
   "outputs": [
    {
     "name": "stdout",
     "output_type": "stream",
     "text": [
      "b = 12.041594578792296\n",
      "a = 5.479202710603852\n"
     ]
    }
   ],
   "source": [
    "\n",
    "r1 = d1 / 2\n",
    "phi_1 = 24\n",
    "phi_r1 = phi_1 / 2\n",
    "h = phi_r1-r1\n",
    "b = 2 * (r2**2 - (r2 - h)**2)**0.5\n",
    "print('b =', b)\n",
    "len = 23\n",
    "a = (len - b)/2\n",
    "print('a =', a)"
   ]
  },
  {
   "cell_type": "code",
   "execution_count": 4,
   "metadata": {},
   "outputs": [
    {
     "name": "stdout",
     "output_type": "stream",
     "text": [
      "r1 = 18.625\n",
      "r2 = 10.0625\n",
      "r3 = 8.5\n"
     ]
    }
   ],
   "source": [
    "# 分配\n",
    "# 1, 1, 0.5\n",
    "def calc_r(hi, bi):\n",
    "    return (hi**2 + (bi/2)**2)/(2*hi)\n",
    "r1 = calc_r(1, b)\n",
    "print(\"r1 =\", r1)\n",
    "r2 = calc_r(2, b)\n",
    "print(\"r2 =\", r2)\n",
    "r3 = calc_r(2.5, b)\n",
    "print(\"r3 =\", r3)"
   ]
  }
 ],
 "metadata": {
  "interpreter": {
   "hash": "c9c4de8162569d5381bf2e044049f55b49f93499940d8d657b7a5b5e0c9692fc"
  },
  "kernelspec": {
   "display_name": "Python 3.8.12 ('SystemEnv')",
   "language": "python",
   "name": "python3"
  },
  "language_info": {
   "codemirror_mode": {
    "name": "ipython",
    "version": 3
   },
   "file_extension": ".py",
   "mimetype": "text/x-python",
   "name": "python",
   "nbconvert_exporter": "python",
   "pygments_lexer": "ipython3",
   "version": "3.8.12"
  },
  "orig_nbformat": 4
 },
 "nbformat": 4,
 "nbformat_minor": 2
}
